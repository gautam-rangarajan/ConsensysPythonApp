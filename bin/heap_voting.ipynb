{
 "cells": [
  {
   "cell_type": "code",
   "execution_count": 1,
   "metadata": {},
   "outputs": [],
   "source": [
    "import pandas as pd\n",
    "from typing import List, Dict\n",
    "import uuid\n",
    "import heapq\n",
    "\n",
    "from data_fetcher import MovieStack, Movie"
   ]
  },
  {
   "cell_type": "code",
   "execution_count": 2,
   "metadata": {},
   "outputs": [],
   "source": [
    "#Load file to happen once when a room is created\n",
    "\n",
    "all_movies = MovieStack()\n",
    "all_movies.load_movies(\"amf.csv\")"
   ]
  },
  {
   "cell_type": "code",
   "execution_count": 55,
   "metadata": {},
   "outputs": [
    {
     "name": "stdout",
     "output_type": "stream",
     "text": [
      "[(0, '0001ee35d4724702'), (0, '0003e9f38ce74581'), (0, '0005a9b91ec74c1f'), (0, '00076c0a2ada4c8a'), (0, '000b024ca3be4a93'), (0, '000c9b3beeb341fd'), (0, '0011bb1ebf7546c1'), (0, '0011e1844aad4726')]\n"
     ]
    }
   ],
   "source": [
    "#Assignments to happen to when a room is created\n",
    "\n",
    "votes_as_tuples = [(-vote_count, movie_id) for movie_id, vote_count in all_movies.votes.items()]\n",
    "\n",
    "#heap_size = len(votes_as_tuples)\n",
    "heap_size = 8\n",
    "\n",
    "top_movies = heapq.nsmallest(heap_size, votes_as_tuples)\n",
    "print(top_movies)"
   ]
  },
  {
   "cell_type": "code",
   "execution_count": 25,
   "metadata": {},
   "outputs": [],
   "source": [
    "#get index from a list of tuples function from ChatGPT\n",
    "def get_index_by_movie_id(heap, movie_id):\n",
    "    return next((i for i, (_, m_id) in enumerate(heap) if m_id == movie_id), None)"
   ]
  },
  {
   "cell_type": "code",
   "execution_count": 66,
   "metadata": {},
   "outputs": [],
   "source": [
    "#heap manipulation function from ChatGPT\n",
    "#tested and confirmed it works\n",
    "def add_vote_heap(heap, movie_id, increment = 1):\n",
    "    \n",
    "    # Find the index of the element to remove\n",
    "    index = get_index_by_movie_id(heap, movie_id)\n",
    "    if index == None:\n",
    "        print('movie_id not found in heap')\n",
    "        return\n",
    "\n",
    "    # Remove the tuple by swapping it with the last item and popping it off\n",
    "    heap[index], heap[-1] = heap[-1], heap[index]\n",
    "    # Pop the element, it's now the last in the list\n",
    "    value, m_id = heap.pop()\n",
    "    \n",
    "    # Decrement the value (since it's a max heap and we store negative values)\n",
    "    new_value = value - increment  # We decrement because we're dealing with a max-heap\n",
    "    incremented_tuple = (new_value, movie_id)\n",
    "    \n",
    "    # Push the new tuple onto the heap\n",
    "    heapq.heappush(heap, incremented_tuple)\n",
    "    \n",
    "    # Re-heapify if the removed element was not the last one\n",
    "    if index < len(heap):\n",
    "        heapq._siftup(heap, index)\n",
    "        heapq._siftdown(heap, 0, index)\n"
   ]
  },
  {
   "cell_type": "code",
   "execution_count": 74,
   "metadata": {},
   "outputs": [
    {
     "name": "stdout",
     "output_type": "stream",
     "text": [
      "6\n"
     ]
    }
   ],
   "source": [
    "#Testing Add Vote function\n",
    "print(get_index_by_movie_id(top_movies, '000b024ca3be4a93'))\n",
    "\n",
    "add_vote_heap(top_movies, '000b024ca3be4a93', 1)\n",
    "\n",
    "print(top_movies)"
   ]
  },
  {
   "cell_type": "code",
   "execution_count": null,
   "metadata": {},
   "outputs": [
    {
     "name": "stdout",
     "output_type": "stream",
     "text": [
      "[(-2, '0001ee35d4724702'), (-2, '00076c0a2ada4c8a'), (0, '0003e9f38ce74581'), (-2, '000b024ca3be4a93'), (0, '0011e1844aad4726'), (0, '000c9b3beeb341fd'), (0, '0011bb1ebf7546c1'), (-1, '0005a9b91ec74c1f')]\n"
     ]
    }
   ],
   "source": [
    "#Quick test to see that output of add_vote_heap() is a valid heap. \n",
    "#if top_movies (our heap) is unchanged even after a heapify() operation, then add_vote_heap() works.\n",
    "heapq.heapify(top_movies)\n",
    "print(top_movies)"
   ]
  }
 ],
 "metadata": {
  "kernelspec": {
   "display_name": "base",
   "language": "python",
   "name": "python3"
  },
  "language_info": {
   "codemirror_mode": {
    "name": "ipython",
    "version": 3
   },
   "file_extension": ".py",
   "mimetype": "text/x-python",
   "name": "python",
   "nbconvert_exporter": "python",
   "pygments_lexer": "ipython3",
   "version": "3.11.5"
  }
 },
 "nbformat": 4,
 "nbformat_minor": 2
}
